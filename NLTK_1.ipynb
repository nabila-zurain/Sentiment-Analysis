{
  "nbformat": 4,
  "nbformat_minor": 0,
  "metadata": {
    "colab": {
      "provenance": [],
      "collapsed_sections": [],
      "include_colab_link": true
    },
    "kernelspec": {
      "name": "python3",
      "display_name": "Python 3"
    },
    "language_info": {
      "name": "python"
    }
  },
  "cells": [
    {
      "cell_type": "markdown",
      "metadata": {
        "id": "view-in-github",
        "colab_type": "text"
      },
      "source": [
        "<a href=\"https://colab.research.google.com/github/nabila-zurain/Sentiment-Analysis/blob/main/NLTK_1.ipynb\" target=\"_parent\"><img src=\"https://colab.research.google.com/assets/colab-badge.svg\" alt=\"Open In Colab\"/></a>"
      ]
    },
    {
      "cell_type": "code",
      "metadata": {
        "id": "oNXxAMq5xMU3"
      },
      "source": [
        "# Using NLTK\n",
        "# !pip install nltk\n",
        "import nltk"
      ],
      "execution_count": null,
      "outputs": []
    },
    {
      "cell_type": "code",
      "metadata": {
        "colab": {
          "base_uri": "https://localhost:8080/"
        },
        "id": "t-cyDWqR1fer",
        "outputId": "e786d14f-8b37-4e48-ef50-a9803f4f7f2e"
      },
      "source": [
        "# Tokenization\n",
        "nltk.download('punkt')\n",
        "from nltk import word_tokenize"
      ],
      "execution_count": null,
      "outputs": [
        {
          "output_type": "stream",
          "name": "stdout",
          "text": [
            "[nltk_data] Downloading package punkt to /root/nltk_data...\n",
            "[nltk_data]   Unzipping tokenizers/punkt.zip.\n"
          ]
        }
      ]
    },
    {
      "cell_type": "code",
      "metadata": {
        "colab": {
          "base_uri": "https://localhost:8080/"
        },
        "id": "KP37915z3-kx",
        "outputId": "c7d607a2-1815-4c2c-af2b-95bc21a32072"
      },
      "source": [
        "test_sentence = \"The quick brown fox jumps over the little lazy dog\"\n",
        "print(word_tokenize(test_sentence))"
      ],
      "execution_count": null,
      "outputs": [
        {
          "output_type": "stream",
          "name": "stdout",
          "text": [
            "['The', 'quick', 'brown', 'fox', 'jumps', 'over', 'the', 'little', 'lazy', 'dog']\n"
          ]
        }
      ]
    },
    {
      "cell_type": "code",
      "metadata": {
        "colab": {
          "base_uri": "https://localhost:8080/"
        },
        "id": "y6v6HBjl5kJJ",
        "outputId": "5e399bdc-5e0c-48d9-d466-412c7bd5bdb9"
      },
      "source": [
        "# difference between split() and word_tokenize\n",
        "data = \"This is the tutorial of python, nltk, textProcessing\"\n",
        "data.split()"
      ],
      "execution_count": null,
      "outputs": [
        {
          "output_type": "execute_result",
          "data": {
            "text/plain": [
              "['This', 'is', 'the', 'tutorial', 'of', 'python,', 'nltk,', 'textProcessing']"
            ]
          },
          "metadata": {},
          "execution_count": 4
        }
      ]
    },
    {
      "cell_type": "code",
      "metadata": {
        "colab": {
          "base_uri": "https://localhost:8080/"
        },
        "id": "c-6TuJO45-Ha",
        "outputId": "e20a1a20-9d7c-4894-f533-defe120840fd"
      },
      "source": [
        "print(word_tokenize(data))"
      ],
      "execution_count": null,
      "outputs": [
        {
          "output_type": "stream",
          "name": "stdout",
          "text": [
            "['This', 'is', 'the', 'tutorial', 'of', 'python', ',', 'nltk', ',', 'textProcessing']\n"
          ]
        }
      ]
    },
    {
      "cell_type": "code",
      "metadata": {
        "colab": {
          "base_uri": "https://localhost:8080/"
        },
        "id": "DzZCePE57HOX",
        "outputId": "dad962bc-2982-4390-b47c-445e007c5406"
      },
      "source": [
        "from nltk import sent_tokenize\n",
        "\n",
        "data = \"My name is Yash Sharma. I live in India. I am working as a software developer\"\n",
        "print(word_tokenize(data))"
      ],
      "execution_count": null,
      "outputs": [
        {
          "output_type": "stream",
          "name": "stdout",
          "text": [
            "['My', 'name', 'is', 'Yash', 'Sharma', '.', 'I', 'live', 'in', 'India', '.', 'I', 'am', 'working', 'as', 'a', 'software', 'developer']\n"
          ]
        }
      ]
    },
    {
      "cell_type": "code",
      "metadata": {
        "colab": {
          "base_uri": "https://localhost:8080/"
        },
        "id": "kXOHvRCG7qtQ",
        "outputId": "ceddf0be-6c93-4971-f292-fea714ecdc9a"
      },
      "source": [
        "print(sent_tokenize(data))"
      ],
      "execution_count": null,
      "outputs": [
        {
          "output_type": "stream",
          "name": "stdout",
          "text": [
            "['My name is Yash Sharma.', 'I live in India.', 'I am working as a software developer']\n"
          ]
        }
      ]
    },
    {
      "cell_type": "code",
      "metadata": {
        "colab": {
          "base_uri": "https://localhost:8080/"
        },
        "id": "bj1IjBrm805x",
        "outputId": "d42c68b1-87da-4ec2-ef7b-dc39579b32d1"
      },
      "source": [
        "data = \"#Nexperts is the best institute.\"\n",
        "word_tokenize(data)"
      ],
      "execution_count": null,
      "outputs": [
        {
          "output_type": "execute_result",
          "data": {
            "text/plain": [
              "['#', 'Nexperts', 'is', 'the', 'best', 'institute', '.']"
            ]
          },
          "metadata": {},
          "execution_count": 8
        }
      ]
    },
    {
      "cell_type": "code",
      "metadata": {
        "id": "s-jGQDwQ9NQ9"
      },
      "source": [
        "from nltk.tokenize import TweetTokenizer\n",
        "tk = TweetTokenizer()"
      ],
      "execution_count": null,
      "outputs": []
    },
    {
      "cell_type": "code",
      "metadata": {
        "colab": {
          "base_uri": "https://localhost:8080/"
        },
        "id": "ozGFwLnh9duO",
        "outputId": "6ca2c1b2-598d-4630-994c-a6aa15032329"
      },
      "source": [
        "tk.tokenize(data)"
      ],
      "execution_count": null,
      "outputs": [
        {
          "output_type": "execute_result",
          "data": {
            "text/plain": [
              "['#Nexperts', 'is', 'the', 'best', 'institute', '.']"
            ]
          },
          "metadata": {},
          "execution_count": 10
        }
      ]
    },
    {
      "cell_type": "code",
      "metadata": {
        "colab": {
          "base_uri": "https://localhost:8080/"
        },
        "id": "n3sCRgUe-VKY",
        "outputId": "6f3478cf-53c6-47bc-e3a2-ba7056626672"
      },
      "source": [
        "# Stopwords\n",
        "from nltk.corpus import stopwords\n",
        "nltk.download('stopwords')"
      ],
      "execution_count": null,
      "outputs": [
        {
          "output_type": "stream",
          "name": "stdout",
          "text": [
            "[nltk_data] Downloading package stopwords to /root/nltk_data...\n",
            "[nltk_data]   Unzipping corpora/stopwords.zip.\n"
          ]
        },
        {
          "output_type": "execute_result",
          "data": {
            "text/plain": [
              "True"
            ]
          },
          "metadata": {},
          "execution_count": 11
        }
      ]
    },
    {
      "cell_type": "code",
      "metadata": {
        "colab": {
          "base_uri": "https://localhost:8080/"
        },
        "id": "3iQICIY___as",
        "outputId": "424fbe21-d7fc-4cbc-a056-b8c58650707d"
      },
      "source": [
        "print(stopwords.words('english'))"
      ],
      "execution_count": null,
      "outputs": [
        {
          "output_type": "stream",
          "name": "stdout",
          "text": [
            "['i', 'me', 'my', 'myself', 'we', 'our', 'ours', 'ourselves', 'you', \"you're\", \"you've\", \"you'll\", \"you'd\", 'your', 'yours', 'yourself', 'yourselves', 'he', 'him', 'his', 'himself', 'she', \"she's\", 'her', 'hers', 'herself', 'it', \"it's\", 'its', 'itself', 'they', 'them', 'their', 'theirs', 'themselves', 'what', 'which', 'who', 'whom', 'this', 'that', \"that'll\", 'these', 'those', 'am', 'is', 'are', 'was', 'were', 'be', 'been', 'being', 'have', 'has', 'had', 'having', 'do', 'does', 'did', 'doing', 'a', 'an', 'the', 'and', 'but', 'if', 'or', 'because', 'as', 'until', 'while', 'of', 'at', 'by', 'for', 'with', 'about', 'against', 'between', 'into', 'through', 'during', 'before', 'after', 'above', 'below', 'to', 'from', 'up', 'down', 'in', 'out', 'on', 'off', 'over', 'under', 'again', 'further', 'then', 'once', 'here', 'there', 'when', 'where', 'why', 'how', 'all', 'any', 'both', 'each', 'few', 'more', 'most', 'other', 'some', 'such', 'no', 'nor', 'not', 'only', 'own', 'same', 'so', 'than', 'too', 'very', 's', 't', 'can', 'will', 'just', 'don', \"don't\", 'should', \"should've\", 'now', 'd', 'll', 'm', 'o', 're', 've', 'y', 'ain', 'aren', \"aren't\", 'couldn', \"couldn't\", 'didn', \"didn't\", 'doesn', \"doesn't\", 'hadn', \"hadn't\", 'hasn', \"hasn't\", 'haven', \"haven't\", 'isn', \"isn't\", 'ma', 'mightn', \"mightn't\", 'mustn', \"mustn't\", 'needn', \"needn't\", 'shan', \"shan't\", 'shouldn', \"shouldn't\", 'wasn', \"wasn't\", 'weren', \"weren't\", 'won', \"won't\", 'wouldn', \"wouldn't\"]\n"
          ]
        }
      ]
    },
    {
      "cell_type": "code",
      "metadata": {
        "colab": {
          "base_uri": "https://localhost:8080/"
        },
        "id": "YdYeRQ83AxSA",
        "outputId": "7411011c-98ed-4454-f8f6-3a780c1699a8"
      },
      "source": [
        "test = \"My laptop is overheating\"\n",
        "test = test.lower()\n",
        "stop_words = stopwords.words('english')\n",
        "\n",
        "token = word_tokenize(test)\n",
        "\n",
        "cleaned_token = []\n",
        "\n",
        "for word in token:\n",
        "  if word not in stop_words:\n",
        "    cleaned_token.append(word)\n",
        "  \n",
        "print(cleaned_token)"
      ],
      "execution_count": null,
      "outputs": [
        {
          "output_type": "stream",
          "name": "stdout",
          "text": [
            "['laptop', 'overheating']\n"
          ]
        }
      ]
    },
    {
      "cell_type": "code",
      "metadata": {
        "colab": {
          "base_uri": "https://localhost:8080/"
        },
        "id": "F5UI37AtFdft",
        "outputId": "0e415784-a26d-4c92-f1c0-e8834c976387"
      },
      "source": [
        "# Stemming\n",
        "\n",
        "from nltk.stem import PorterStemmer\n",
        "\n",
        "ps = PorterStemmer()\n",
        "\n",
        "words = ['program','programs','programmer','programming','programmers']\n",
        "\n",
        "for w in words:\n",
        "  print(w,\" : \",ps.stem(w))"
      ],
      "execution_count": null,
      "outputs": [
        {
          "output_type": "stream",
          "name": "stdout",
          "text": [
            "program  :  program\n",
            "programs  :  program\n",
            "programmer  :  programm\n",
            "programming  :  program\n",
            "programmers  :  programm\n"
          ]
        }
      ]
    },
    {
      "cell_type": "code",
      "metadata": {
        "colab": {
          "base_uri": "https://localhost:8080/"
        },
        "id": "O3hxznVfsCy-",
        "outputId": "a3ed0424-a29e-409e-e8bc-cc9835d21058"
      },
      "source": [
        "# Lemmatization\n",
        "nltk.download('wordnet')"
      ],
      "execution_count": null,
      "outputs": [
        {
          "output_type": "stream",
          "name": "stdout",
          "text": [
            "[nltk_data] Downloading package wordnet to /root/nltk_data...\n",
            "[nltk_data]   Unzipping corpora/wordnet.zip.\n"
          ]
        },
        {
          "output_type": "execute_result",
          "data": {
            "text/plain": [
              "True"
            ]
          },
          "metadata": {},
          "execution_count": 15
        }
      ]
    },
    {
      "cell_type": "code",
      "metadata": {
        "id": "8IDI-HWTsk1w"
      },
      "source": [
        "from nltk.stem import WordNetLemmatizer\n",
        "lemmatizer = WordNetLemmatizer()"
      ],
      "execution_count": null,
      "outputs": []
    },
    {
      "cell_type": "code",
      "metadata": {
        "colab": {
          "base_uri": "https://localhost:8080/"
        },
        "id": "a-JzZZg_tI2j",
        "outputId": "d0cf8129-96dd-4a1e-b987-7a53a5c1c142"
      },
      "source": [
        "print(\"rocks : \",lemmatizer.lemmatize(\"rocks\"))"
      ],
      "execution_count": null,
      "outputs": [
        {
          "output_type": "stream",
          "name": "stdout",
          "text": [
            "rocks :  rock\n"
          ]
        }
      ]
    },
    {
      "cell_type": "code",
      "metadata": {
        "colab": {
          "base_uri": "https://localhost:8080/"
        },
        "id": "z5TNErErtZ5j",
        "outputId": "6d32c34b-79c2-4ca2-f05a-56f16ed94ab8"
      },
      "source": [
        "print(\"cries : \",lemmatizer.lemmatize(\"cries\"))"
      ],
      "execution_count": null,
      "outputs": [
        {
          "output_type": "stream",
          "name": "stdout",
          "text": [
            "cries :  cry\n"
          ]
        }
      ]
    },
    {
      "cell_type": "code",
      "metadata": {
        "colab": {
          "base_uri": "https://localhost:8080/"
        },
        "id": "DxewqEdTudNh",
        "outputId": "f8f78fcc-1f5b-4cca-bb42-b42d2109fdf0"
      },
      "source": [
        "# diff between lemmatization and stemming\n",
        "word = 'studies'\n",
        "print(ps.stem(word))"
      ],
      "execution_count": null,
      "outputs": [
        {
          "output_type": "stream",
          "name": "stdout",
          "text": [
            "studi\n"
          ]
        }
      ]
    },
    {
      "cell_type": "code",
      "metadata": {
        "colab": {
          "base_uri": "https://localhost:8080/"
        },
        "id": "w2HsLYSGu8VM",
        "outputId": "964bd989-8e78-4447-ff42-c3c546b1ac40"
      },
      "source": [
        "print(lemmatizer.lemmatize(word))"
      ],
      "execution_count": null,
      "outputs": [
        {
          "output_type": "stream",
          "name": "stdout",
          "text": [
            "study\n"
          ]
        }
      ]
    },
    {
      "cell_type": "code",
      "metadata": {
        "id": "9NUp6_1twT8Z"
      },
      "source": [
        "# TextBlob.correct()\n",
        "from textblob import TextBlob"
      ],
      "execution_count": null,
      "outputs": []
    },
    {
      "cell_type": "code",
      "metadata": {
        "colab": {
          "base_uri": "https://localhost:8080/"
        },
        "id": "hwexrfLExLV9",
        "outputId": "0023969b-3f08-4640-f704-dd2a33384283"
      },
      "source": [
        "test = TextBlob('XYZ is a good compny and alays valule ttheir employees.')\n",
        "test = test.correct()\n",
        "print(test)"
      ],
      "execution_count": null,
      "outputs": [
        {
          "output_type": "stream",
          "name": "stdout",
          "text": [
            "XYZ is a good company and always value their employees.\n"
          ]
        }
      ]
    },
    {
      "cell_type": "code",
      "metadata": {
        "colab": {
          "base_uri": "https://localhost:8080/"
        },
        "id": "8Kw7zDA9xzkP",
        "outputId": "a365d3eb-d6e3-4094-8b85-2e7c740300a2"
      },
      "source": [
        "test = TextBlob('I amm goodd at speling mstake.')\n",
        "test = test.correct()\n",
        "print(test)"
      ],
      "execution_count": null,
      "outputs": [
        {
          "output_type": "stream",
          "name": "stdout",
          "text": [
            "I am good at spelling mistake.\n"
          ]
        }
      ]
    },
    {
      "cell_type": "code",
      "metadata": {
        "colab": {
          "base_uri": "https://localhost:8080/"
        },
        "id": "OvCW_f0XzLif",
        "outputId": "bffc6798-5ee8-4ebd-d40d-317e2358f2bc"
      },
      "source": [
        "sample_text = 'Adakah saudara faham'\n",
        "check = TextBlob(sample_text)\n",
        "print(check.detect_language())"
      ],
      "execution_count": null,
      "outputs": [
        {
          "output_type": "stream",
          "name": "stdout",
          "text": [
            "ms\n"
          ]
        }
      ]
    },
    {
      "cell_type": "code",
      "metadata": {
        "colab": {
          "base_uri": "https://localhost:8080/"
        },
        "id": "QUhEoBTSz7lW",
        "outputId": "e960b7e0-9240-4667-fdd1-5cad31ba0280"
      },
      "source": [
        "print(check.translate(to='en'))"
      ],
      "execution_count": null,
      "outputs": [
        {
          "output_type": "stream",
          "name": "stdout",
          "text": [
            "Do you understand\n"
          ]
        }
      ]
    }
  ]
}